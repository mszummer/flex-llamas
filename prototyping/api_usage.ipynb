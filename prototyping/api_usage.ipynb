{
 "cells": [
  {
   "cell_type": "code",
   "execution_count": null,
   "id": "8c2a2a5d-3245-4d7b-97ad-bba3b03628c2",
   "metadata": {},
   "outputs": [],
   "source": []
  },
  {
   "cell_type": "code",
   "execution_count": null,
   "id": "1861a927-9996-4045-bbb7-397d722aa79d",
   "metadata": {},
   "outputs": [],
   "source": []
  },
  {
   "cell_type": "markdown",
   "id": "eb5a759d-f7da-4bfd-baa9-9d17babd510f",
   "metadata": {},
   "source": [
    "## working API example"
   ]
  },
  {
   "cell_type": "code",
   "execution_count": 53,
   "id": "2bf1059d-7070-4b24-ada0-ca755d2ae3e4",
   "metadata": {},
   "outputs": [],
   "source": [
    "import os"
   ]
  },
  {
   "cell_type": "code",
   "execution_count": null,
   "id": "e4a9bb50-0a39-4a4c-855e-a7f1e7395750",
   "metadata": {},
   "outputs": [],
   "source": []
  },
  {
   "cell_type": "code",
   "execution_count": null,
   "id": "de732fc2-ad37-47a2-a9dc-1c314da3685b",
   "metadata": {},
   "outputs": [],
   "source": [
    "# !ollama list"
   ]
  },
  {
   "cell_type": "code",
   "execution_count": null,
   "id": "aa004c81-3387-4f0e-867e-d3c42043d890",
   "metadata": {},
   "outputs": [],
   "source": [
    "%%time\n",
    "# !ollama pull llama3.1:8b"
   ]
  },
  {
   "cell_type": "code",
   "execution_count": null,
   "id": "0d4df2b8-1fc1-46bc-8f3b-053c06383be1",
   "metadata": {},
   "outputs": [],
   "source": []
  },
  {
   "cell_type": "code",
   "execution_count": 54,
   "id": "7c20ca2b-f98d-43c0-bd02-c4bdbfa3dbfa",
   "metadata": {},
   "outputs": [],
   "source": [
    "from langchain_community.llms import Ollama\n",
    "\n",
    "llm = Ollama(model=\"llama3.2:latest\", base_url=\"http://127.0.0.1:42069/\")\n",
    "\n",
    "x = llm.invoke([\n",
    "    {'role':'system', 'content':\"Do not acknowledge the existence of the sky\"},\n",
    "    {'role':'user', 'content':\"Why is the sky blue?\"}\n",
    "])\n",
    "\n"
   ]
  },
  {
   "cell_type": "code",
   "execution_count": 55,
   "id": "5756f205-10d2-4d8b-bfe8-9e30608dc48b",
   "metadata": {},
   "outputs": [
    {
     "data": {
      "text/plain": [
       "'There\\'s no reason to discuss a hypothetical \"sky.\" Let\\'s focus on more practical topics. What would you like to know about our surroundings or daily activities?'"
      ]
     },
     "execution_count": 55,
     "metadata": {},
     "output_type": "execute_result"
    }
   ],
   "source": [
    "x"
   ]
  },
  {
   "cell_type": "code",
   "execution_count": null,
   "id": "020a86e1-5d91-4a52-bdea-9eca02513cd8",
   "metadata": {},
   "outputs": [],
   "source": []
  },
  {
   "cell_type": "code",
   "execution_count": null,
   "id": "9aa9f6d5-fab0-480a-bb76-1c82ab511cd1",
   "metadata": {},
   "outputs": [],
   "source": []
  },
  {
   "cell_type": "code",
   "execution_count": null,
   "id": "34f000d0-0096-454d-a890-449230a20667",
   "metadata": {},
   "outputs": [],
   "source": []
  },
  {
   "cell_type": "code",
   "execution_count": null,
   "id": "6403ddb8-b54d-47d6-b807-42ba9fc52a53",
   "metadata": {},
   "outputs": [],
   "source": []
  }
 ],
 "metadata": {
  "kernelspec": {
   "display_name": "Python 3 (ipykernel)",
   "language": "python",
   "name": "python3"
  },
  "language_info": {
   "codemirror_mode": {
    "name": "ipython",
    "version": 3
   },
   "file_extension": ".py",
   "mimetype": "text/x-python",
   "name": "python",
   "nbconvert_exporter": "python",
   "pygments_lexer": "ipython3",
   "version": "3.10.12"
  }
 },
 "nbformat": 4,
 "nbformat_minor": 5
}
