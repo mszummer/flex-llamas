{
 "cells": [
  {
   "cell_type": "markdown",
   "id": "a92b2a60-f001-4bc5-832c-4b0d7bdd7e8d",
   "metadata": {},
   "source": [
    "# gen_abcd\n",
    "Write numpy code for a data generator that samples 500 samples according to:\n",
    "\n",
    "a ~ Uniform[0,1]\n",
    "\n",
    "c ~ Uniform[0,1]\n",
    "\n",
    "d ~ Uniform[0,1]\n",
    "\n",
    "noise ~ 0.5* N(0,1)\n",
    "\n",
    "b ~ a + 2*d + noise\n",
    "\n",
    "Save the data in a CSV file, with columns named a, b, c, d  (do not save the noise)."
   ]
  },
  {
   "cell_type": "markdown",
   "id": "910d78dd-b087-4718-920c-5b9130ea9099",
   "metadata": {},
   "source": [
    "## data description (seed)\n",
    "\n",
    "a is an independent variable\n",
    "b depends on a and d\n",
    "b is positively dependent on a\n",
    "b is positively dependent on d\n",
    "c is an independent variable"
   ]
  },
  {
   "cell_type": "code",
   "execution_count": 5,
   "id": "fd48d9a8-45d2-48ce-b9f1-b9c0b072f130",
   "metadata": {},
   "outputs": [
    {
     "name": "stdout",
     "output_type": "stream",
     "text": [
      "Data generation complete. Check 'generated_data.csv' for the results.\n"
     ]
    }
   ],
   "source": [
    "import numpy as np\n",
    "import pandas as pd\n",
    "\n",
    "# Set random seed for reproducibility\n",
    "np.random.seed(42)\n",
    "\n",
    "# Generate 500 samples\n",
    "n_samples = 500\n",
    "\n",
    "# Generate a, c, and d from Uniform[0,1]\n",
    "a = np.random.uniform(0, 1, n_samples)\n",
    "c = np.random.uniform(0, 1, n_samples)\n",
    "d = np.random.uniform(0, 1, n_samples)\n",
    "\n",
    "# Generate noise from 0.5 * N(0,1)\n",
    "# noise = 0.5 * np.random.normal(0, 1, n_samples)\n",
    "noise = 0.3 * np.random.normal(0, 1, n_samples)\n",
    "\n",
    "# Calculate b\n",
    "b = a + 2 * d + noise\n",
    "\n",
    "# Create a DataFrame with the generated data\n",
    "df = pd.DataFrame({\n",
    "    'a': a,\n",
    "    'b': b,\n",
    "    'c': c,\n",
    "    'd': d\n",
    "})\n",
    "\n",
    "# Save the DataFrame to a CSV file\n",
    "df.to_csv('generated_data.csv', index=False)\n",
    "\n",
    "print(\"Data generation complete. Check 'generated_data.csv' for the results.\")"
   ]
  },
  {
   "cell_type": "markdown",
   "id": "4ebecf10-a0af-4f83-9272-2fa52124e5d1",
   "metadata": {},
   "source": [
    "## generated data description: gen_abcd_truth.txt\n",
    "a is an independent variable\n",
    "c is an independent variable\n",
    "d is an independent variable\n",
    "b depends on a, d, and noise\n",
    "b is positively dependent on a\n",
    "b is positively dependent on d\n",
    "The effect of d on b is twice as strong as the effect of a on b\n",
    "b has a linear relationship with a and d\n",
    "b has an additive noise component\n",
    "The noise in b follows a normal distribution\n",
    "The noise in b is independent of a, c, and d\n",
    "c does not influence b\n",
    "a, c, and d are uniformly distributed\n",
    "b has a deterministic component (a + 2d) and a stochastic component (noise)\n",
    "The variance of b is constant and independent of a and d\n"
   ]
  },
  {
   "cell_type": "code",
   "execution_count": null,
   "id": "747511ef-a300-44f0-9399-531a588efff7",
   "metadata": {},
   "outputs": [],
   "source": []
  }
 ],
 "metadata": {
  "kernelspec": {
   "display_name": "Python 3 (ipykernel)",
   "language": "python",
   "name": "python3"
  },
  "language_info": {
   "codemirror_mode": {
    "name": "ipython",
    "version": 3
   },
   "file_extension": ".py",
   "mimetype": "text/x-python",
   "name": "python",
   "nbconvert_exporter": "python",
   "pygments_lexer": "ipython3",
   "version": "3.10.12"
  }
 },
 "nbformat": 4,
 "nbformat_minor": 5
}
